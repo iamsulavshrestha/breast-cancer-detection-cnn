{
 "cells": [
  {
   "cell_type": "markdown",
   "id": "b2870d54-37b3-42d6-bc88-d167fc0de081",
   "metadata": {},
   "source": [
    "# Setup and installation"
   ]
  },
  {
   "cell_type": "code",
   "execution_count": null,
   "id": "cf8a406a-3224-43eb-8f35-a88f096c14a0",
   "metadata": {},
   "outputs": [],
   "source": [
    "pip install tensorflow-gpu"
   ]
  },
  {
   "cell_type": "code",
   "execution_count": null,
   "id": "7b22797d-2ec5-4a9d-89e0-a30342cb031e",
   "metadata": {},
   "outputs": [],
   "source": []
  }
 ],
 "metadata": {
  "kernelspec": {
   "display_name": "Python 3 (ipykernel)",
   "language": "python",
   "name": "python3"
  },
  "language_info": {
   "codemirror_mode": {
    "name": "ipython",
    "version": 3
   },
   "file_extension": ".py",
   "mimetype": "text/x-python",
   "name": "python",
   "nbconvert_exporter": "python",
   "pygments_lexer": "ipython3",
   "version": "3.9.10"
  }
 },
 "nbformat": 4,
 "nbformat_minor": 5
}
